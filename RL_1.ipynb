{
 "cells": [
  {
   "cell_type": "code",
   "execution_count": null,
   "metadata": {},
   "outputs": [],
   "source": [
    "import numpy as np\n",
    "import pandas as pd\n",
    "import matplotlib.pyplot as plt\n",
    "from sklearn.linear_model import LinearRegression"
   ]
  },
  {
   "cell_type": "code",
   "execution_count": null,
   "metadata": {},
   "outputs": [],
   "source": [
    "# Datos de ejemplo: Años de experiencia vs. Sueldo\n",
    "experiencia = np.array([1, 2, 3, 4, 5, 6, 7, 8, 9, 10]).reshape(-1, 1)\n",
    "sueldo = np.array([30000, 35000, 40000, 45000, 50000, 55000, 60000, 65000, 70000, 75000])"
   ]
  },
  {
   "cell_type": "code",
   "execution_count": null,
   "metadata": {},
   "outputs": [],
   "source": [
    "# Crear y entrenar el modelo de regresión lineal\n",
    "modelo = LinearRegression()\n",
    "modelo.fit(experiencia, sueldo)\n",
    "\n",
    "# Predicciones\n",
    "experiencia_pred = np.linspace(0, 12, 100).reshape(-1, 1)\n",
    "sueldo_pred = modelo.predict(experiencia_pred)\n"
   ]
  },
  {
   "cell_type": "code",
   "execution_count": null,
   "metadata": {},
   "outputs": [],
   "source": [
    "# Visualización\n",
    "plt.figure(figsize=(8, 5))\n",
    "plt.scatter(experiencia, sueldo, color='blue', label='Datos reales')\n",
    "plt.plot(experiencia_pred, sueldo_pred, color='red', linestyle='dashed', label='Regresión lineal')\n",
    "plt.xlabel('Años de Experiencia')\n",
    "plt.ylabel('Sueldo ($)')\n",
    "plt.title('Regresión Lineal Simple: Sueldo vs. Experiencia')\n",
    "plt.legend()\n",
    "plt.grid(True)\n",
    "plt.show()"
   ]
  },
  {
   "cell_type": "code",
   "execution_count": null,
   "metadata": {},
   "outputs": [],
   "source": [
    "from sklearn.metrics import mean_squared_error\n",
    "\n",
    "# Predicciones del modelo sobre los datos reales\n",
    "sueldo_pred_real = modelo.predict(experiencia)\n",
    "\n",
    "# Cálculo del Error Cuadrático Medio (MSE)\n",
    "mse = mean_squared_error(sueldo, sueldo_pred_real)"
   ]
  },
  {
   "cell_type": "code",
   "execution_count": null,
   "metadata": {},
   "outputs": [],
   "source": [
    "# Visualización del error\n",
    "plt.figure(figsize=(8, 5))\n",
    "plt.scatter(experiencia, sueldo, color='blue', label='Datos reales')\n",
    "plt.plot(experiencia, sueldo_pred_real, color='red', linestyle='dashed', label='Regresión lineal')\n",
    "\n",
    "# Dibujar las líneas de error\n",
    "for i in range(len(experiencia)):\n",
    "    plt.plot([experiencia[i], experiencia[i]], [sueldo[i], sueldo_pred_real[i]], 'k--', alpha=0.6)\n",
    "\n",
    "plt.xlabel('Años de Experiencia')\n",
    "plt.ylabel('Sueldo ($)')\n",
    "plt.title(f'Regresión Lineal y MSE\\nError Cuadrático Medio: {mse:.2f}')\n",
    "plt.legend()\n",
    "plt.grid(True)\n",
    "plt.show()"
   ]
  },
  {
   "cell_type": "code",
   "execution_count": null,
   "metadata": {},
   "outputs": [],
   "source": [
    "# Generar datos más dispersos\n",
    "np.random.seed(42)  # Para reproducibilidad\n",
    "experiencia_ext = np.arange(1, 21).reshape(-1, 1)  # Años de experiencia de 1 a 20\n",
    "sueldo_ext = 30000 + 2500 * experiencia_ext.flatten() + np.random.normal(0, 10000, size=len(experiencia_ext))  # Agregando ruido"
   ]
  },
  {
   "cell_type": "code",
   "execution_count": null,
   "metadata": {},
   "outputs": [],
   "source": [
    "# Crear y entrenar el nuevo modelo\n",
    "modelo_ext = LinearRegression()\n",
    "modelo_ext.fit(experiencia_ext, sueldo_ext)\n",
    "\n",
    "# Predicciones con el nuevo modelo\n",
    "sueldo_pred_ext = modelo_ext.predict(experiencia_ext)\n",
    "\n",
    "# Cálculo del Error Cuadrático Medio (MSE)\n",
    "mse_ext = mean_squared_error(sueldo_ext, sueldo_pred_ext)\n"
   ]
  },
  {
   "cell_type": "code",
   "execution_count": null,
   "metadata": {},
   "outputs": [],
   "source": [
    "# Visualización del nuevo conjunto de datos con la regresión lineal y errores\n",
    "plt.figure(figsize=(8, 5))\n",
    "plt.scatter(experiencia_ext, sueldo_ext, color='blue', label='Datos reales con ruido')\n",
    "plt.plot(experiencia_ext, sueldo_pred_ext, color='red', linestyle='dashed', label='Regresión lineal')\n",
    "\n",
    "# Dibujar las líneas de error\n",
    "for i in range(len(experiencia_ext)):\n",
    "    plt.plot([experiencia_ext[i], experiencia_ext[i]], [sueldo_ext[i], sueldo_pred_ext[i]], 'k--', alpha=0.6)\n",
    "\n",
    "plt.xlabel('Años de Experiencia')\n",
    "plt.ylabel('Sueldo ($)')\n",
    "plt.title(f'Regresión Lineal con Datos Dispersos\\nError Cuadrático Medio: {mse_ext:.2f}')\n",
    "plt.legend()\n",
    "plt.grid(True)\n",
    "plt.show()"
   ]
  },
  {
   "cell_type": "code",
   "execution_count": null,
   "metadata": {},
   "outputs": [],
   "source": [
    "# Cálculo del coeficiente de determinación (R^2) para el primer ejemplo\n",
    "r2_score_simple = modelo.score(experiencia, sueldo)\n",
    "\n",
    "# Cálculo del coeficiente de determinación (R^2) para el segundo ejemplo con datos dispersos\n",
    "r2_score_ext = modelo_ext.score(experiencia_ext, sueldo_ext)\n",
    "\n",
    "r2_score_simple, r2_score_ext"
   ]
  },
  {
   "cell_type": "code",
   "execution_count": null,
   "metadata": {},
   "outputs": [],
   "source": [
    "from sklearn.preprocessing import StandardScaler, MinMaxScaler\n",
    "\n",
    "# Aplicar estandarización (Z-score normalization)\n",
    "scaler_standard = StandardScaler()\n",
    "experiencia_ext_std = scaler_standard.fit_transform(experiencia_ext)\n",
    "sueldo_ext_std = scaler_standard.fit_transform(sueldo_ext.reshape(-1, 1)).flatten()\n",
    "\n",
    "# Aplicar normalización (Min-Max scaling)\n",
    "scaler_minmax = MinMaxScaler()\n",
    "experiencia_ext_minmax = scaler_minmax.fit_transform(experiencia_ext)\n",
    "sueldo_ext_minmax = scaler_minmax.fit_transform(sueldo_ext.reshape(-1, 1)).flatten()\n"
   ]
  },
  {
   "cell_type": "code",
   "execution_count": null,
   "metadata": {},
   "outputs": [],
   "source": [
    "# Crear y entrenar modelos con datos estandarizados y normalizados\n",
    "modelo_std = LinearRegression().fit(experiencia_ext_std, sueldo_ext_std)\n",
    "modelo_minmax = LinearRegression().fit(experiencia_ext_minmax, sueldo_ext_minmax)\n",
    "\n",
    "# Predicciones con los modelos ajustados\n",
    "sueldo_pred_std = modelo_std.predict(experiencia_ext_std)\n",
    "sueldo_pred_minmax = modelo_minmax.predict(experiencia_ext_minmax)\n",
    "\n",
    "# Cálculo del Error Cuadrático Medio (MSE) para cada técnica\n",
    "mse_std = mean_squared_error(sueldo_ext_std, sueldo_pred_std)\n",
    "mse_minmax = mean_squared_error(sueldo_ext_minmax, sueldo_pred_minmax)\n"
   ]
  },
  {
   "cell_type": "code",
   "execution_count": null,
   "metadata": {},
   "outputs": [],
   "source": [
    "# Graficar resultados\n",
    "fig, axs = plt.subplots(1, 2, figsize=(14, 5))\n",
    "\n",
    "# Gráfica para estandarización\n",
    "axs[0].scatter(experiencia_ext_std, sueldo_ext_std, color='blue', label='Datos estandarizados')\n",
    "axs[0].plot(experiencia_ext_std, sueldo_pred_std, color='red', linestyle='dashed', label='Regresión lineal')\n",
    "axs[0].set_xlabel('Años de Experiencia (Estandarizado)')\n",
    "axs[0].set_ylabel('Sueldo (Estandarizado)')\n",
    "axs[0].set_title(f'Estandarización (Z-score)\\nMSE: {mse_std:.4f}')\n",
    "axs[0].legend()\n",
    "axs[0].grid(True)\n",
    "\n",
    "# Gráfica para normalización\n",
    "axs[1].scatter(experiencia_ext_minmax, sueldo_ext_minmax, color='green', label='Datos normalizados')\n",
    "axs[1].plot(experiencia_ext_minmax, sueldo_pred_minmax, color='red', linestyle='dashed', label='Regresión lineal')\n",
    "axs[1].set_xlabel('Años de Experiencia (Normalizado)')\n",
    "axs[1].set_ylabel('Sueldo (Normalizado)')\n",
    "axs[1].set_title(f'Normalización (Min-Max)\\nMSE: {mse_minmax:.4f}')\n",
    "axs[1].legend()\n",
    "axs[1].grid(True)\n",
    "\n",
    "plt.show()\n"
   ]
  }
 ],
 "metadata": {
  "kernelspec": {
   "display_name": "ProgramacionII",
   "language": "python",
   "name": "python3"
  },
  "language_info": {
   "codemirror_mode": {
    "name": "ipython",
    "version": 3
   },
   "file_extension": ".py",
   "mimetype": "text/x-python",
   "name": "python",
   "nbconvert_exporter": "python",
   "pygments_lexer": "ipython3",
   "version": "3.9.21"
  }
 },
 "nbformat": 4,
 "nbformat_minor": 2
}
